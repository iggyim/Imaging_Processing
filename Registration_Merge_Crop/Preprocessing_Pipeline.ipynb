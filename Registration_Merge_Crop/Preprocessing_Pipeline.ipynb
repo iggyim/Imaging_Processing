{
 "cells": [
  {
   "cell_type": "code",
   "execution_count": 1,
   "metadata": {
    "scrolled": true
   },
   "outputs": [],
   "source": [
    "import matplotlib.pyplot as plt\n",
    "import matplotlib.patches as patches\n",
    "from pathlib import Path\n",
    "import numpy as np\n",
    "import os\n",
    "import sys\n",
    "import glob\n",
    "import pandas as pd\n",
    "import xml.etree.ElementTree as et\n",
    "import datetime\n",
    "from skimage.io import imread, imsave\n",
    "from imageio import volread as imread\n",
    "import tifffile\n",
    "import pystackreg\n",
    "from pystackreg import StackReg\n",
    "from skimage.filters import threshold_otsu\n",
    "from pystackreg.util import to_uint16   # make sure version 0.2.5 (not anything below)\n",
    "# from ims_to_tiff import convert_to_tif  \n",
    "from tqdm.notebook import tqdm\n",
    "import seaborn as sns\n",
    "import pylab as pl"
   ]
  },
  {
   "cell_type": "markdown",
   "metadata": {},
   "source": [
    "# Converting to TIF"
   ]
  },
  {
   "cell_type": "markdown",
   "metadata": {},
   "source": [
    "There is an automated way to do this on the command line -- below is the documentation:\n",
    "\n",
    "https://docs.google.com/document/d/1O-mWoCaFsKmQY7QfEU1NhL3cyS8SfPCvKUoiIK5zcQQ/edit\n",
    "\n",
    "If you want to run in jupyter notebook, continue"
   ]
  },
  {
   "cell_type": "code",
   "execution_count": null,
   "metadata": {},
   "outputs": [],
   "source": [
    "IMG_DIR = \"IMS_IMAGES_DIRECTORY_PATH\""
   ]
  },
  {
   "cell_type": "code",
   "execution_count": null,
   "metadata": {},
   "outputs": [],
   "source": [
    "# Change \"reg_ex\" with a regular expression for all files in the directory\n",
    "# for example, if all of the files have the word \"Plate\" in it, the reg_ex should be replaced with Plate\n",
    "cycles = glob.glob(f'{IMG_DIR}/*reg_ex*')     "
   ]
  },
  {
   "cell_type": "code",
   "execution_count": null,
   "metadata": {
    "scrolled": true,
    "tags": []
   },
   "outputs": [],
   "source": [
    "error_files = []\n",
    "for i in cycles:\n",
    "    ims = glob.glob(f'{i}/*')\n",
    "    for file in ims:\n",
    "        try:\n",
    "            sourceFile = file\n",
    "            destFile = \"tif/\" + file[:-4]+'.tif'\n",
    "            #print(destFile)\n",
    "            convert_to_tif(sourceFile, destFile)\n",
    "        except:\n",
    "            print(f'{i} has B-tree error or import error')\n",
    "            error_files.append(file)\n",
    "            pass\n",
    "# you can check for any error files by printing out the error_files list"
   ]
  },
  {
   "cell_type": "markdown",
   "metadata": {},
   "source": [
    "# Registration (Testing)"
   ]
  },
  {
   "cell_type": "markdown",
   "metadata": {},
   "source": [
    "This step is to test the registration on one moved image compared to its reference image before moving onto performing the registration on the entire dataset."
   ]
  },
  {
   "cell_type": "code",
   "execution_count": null,
   "metadata": {},
   "outputs": [],
   "source": [
    "sample = \"NAME_OF_SAMPLE\"   # for example \"061224_CellPainting_CorticalNeurons\"  -- but unnecessary if the notebook is inside of the sample directory already\n",
    "TIF_DIR = \"tif\"\n",
    "REF_CYCLE_DIR = \"Cycle_Field_1\"\n",
    "MOV_CYCLE_DIR = \"Cycle_1_Field_1\""
   ]
  },
  {
   "cell_type": "code",
   "execution_count": null,
   "metadata": {},
   "outputs": [],
   "source": [
    "ref = imread(f'{TIF_DIR}/{REF_CYCLE_DIR}/Cycle_F000.tif') # change reference.tif with real name of image\n",
    "mov = imread(f'{TIF_DIR}/{MOV_CYCLE_DIR}/Cycle_1_F000.tif') # change moved.tif with real name of image\n",
    " \n",
    "ref_max = ref.max(0)   # max proj of z for each channel in reference\n",
    "ref_binary = ref_max[0] > threshold_otsu(ref_max[0])  # binarizing 0th channel - change for DNA channel \n",
    "\n",
    "mov_max = mov.max(0)  # max projection by each cycle in for loop (ref above)\n",
    "mov_binary = mov_max[0] > threshold_otsu(mov_max[0]) # binary of moved image\n",
    "    \n",
    "sr = StackReg(StackReg.RIGID_BODY)\n",
    "tmat = sr.register(ref_binary, mov_binary)   # creating transformation matrix \n",
    "out_binary = sr.transform(mov_binary) "
   ]
  },
  {
   "cell_type": "code",
   "execution_count": null,
   "metadata": {
    "scrolled": true
   },
   "outputs": [],
   "source": [
    "tmat"
   ]
  },
  {
   "cell_type": "code",
   "execution_count": null,
   "metadata": {},
   "outputs": [],
   "source": [
    "fig, axs = plt.subplots(1,2,figsize = (20,60))\n",
    "axs = axs.ravel()\n",
    "\n",
    "im_reg = np.zeros((2048, 2048,3)) # empty color image\n",
    "im_reg[...,0] = ref_binary\n",
    "im_reg[...,1] = out_binary\n",
    "    \n",
    "im_orig = np.zeros((2048, 2048,3))\n",
    "im_orig[...,0] = ref_binary\n",
    "im_orig[...,1] = mov_binary\n",
    "    \n",
    "axs[0].imshow(im_orig[0:1000, 0:1000])   #before reg\n",
    "    \n",
    "axs[1].imshow(im_reg[0:1000, 0:1000])   #after reg\n",
    "\n",
    "\n",
    "axs[0].title.set_text('Before Registration')\n",
    "axs[1].title.set_text('After Registration')\n",
    "\n",
    "for ax in axs.flat:\n",
    "    ax.set(xlabel='0:1000', ylabel='0:1000')"
   ]
  },
  {
   "cell_type": "code",
   "execution_count": null,
   "metadata": {
    "scrolled": true
   },
   "outputs": [],
   "source": [
    "reg = np.zeros(mov.shape, dtype=np.uint16) # initialize with the right dtype\n",
    "for Z in range(mov.shape[0]): # Z \n",
    "    print(f\"Z-plane: {Z} registering\")\n",
    "    for ch in range(mov.shape[1]): # channels\n",
    "        reg[Z,ch,...] = sr.transform(mov[Z,ch,...], tmat=tmat)\n",
    "        reg[Z,ch,...] = to_uint16(reg[Z,ch,...])"
   ]
  },
  {
   "cell_type": "code",
   "execution_count": null,
   "metadata": {},
   "outputs": [],
   "source": [
    "# setting a small window of the image to check by eye -- you can change the numbers as you wish\n",
    "reg_max = reg.max(0)\n",
    "reg_v = reg_max[0, ...]\n",
    "reg_v = reg_v[100:200, 100:200]\n",
    "reg_v.shape"
   ]
  },
  {
   "cell_type": "code",
   "execution_count": null,
   "metadata": {},
   "outputs": [],
   "source": [
    "# COMPARING BETWEEN ORIGNIAL IMAGE AND REGISTERED IMAGE -- looking by eye to check that the image has moved\n",
    "\n",
    "orig = imread(f'{TIF_DIR}/{MOV_CYCLE_DIR}/Cycle_1_F000.tif')\n",
    "orig = orig.max(0)\n",
    "orig = orig[0, ...]\n",
    "orig_v = orig[100:200, 100:200]\n",
    "\n",
    "f, ax = plt.subplots(1,2, figsize = (20,60))\n",
    "ax[0].imshow(orig_v)\n",
    "ax[1].imshow(reg_v)\n",
    "ax[0].title.set_text('Before Registration (DNA Channel)')\n",
    "ax[1].title.set_text('After Registration (DNA Channel)')\n",
    "\n",
    "for ax in ax.flat:\n",
    "    ax.set(xlabel='100:1000', ylabel='100:1000')\n",
    "\n",
    "print(orig_v,\" \\n\" , \"\\n\",reg_v)"
   ]
  },
  {
   "cell_type": "markdown",
   "metadata": {},
   "source": [
    "# Registration"
   ]
  },
  {
   "cell_type": "markdown",
   "metadata": {},
   "source": [
    "In this step we will perform registration on the entire dataset."
   ]
  },
  {
   "cell_type": "code",
   "execution_count": null,
   "metadata": {},
   "outputs": [],
   "source": [
    "sample = \"NAME_OF_SAMPLE\"   # this was defined at the testing stage above\\\n",
    "output = \"output\"     # this will be the directory where all of the data other than the images will be saved"
   ]
  },
  {
   "cell_type": "code",
   "execution_count": 2,
   "metadata": {},
   "outputs": [],
   "source": [
    "# Set up number of channels and number of FOVs\n",
    "\n",
    "CYCLE_NUMS = 3\n",
    "NUM_FOVS = 25"
   ]
  },
  {
   "cell_type": "code",
   "execution_count": null,
   "metadata": {},
   "outputs": [],
   "source": [
    "# Creating the directories for the intermediate outputs\n",
    "\n",
    "for i in range(CYCLE_NUMS):\n",
    "    if i == 0:\n",
    "        continue\n",
    "    os.makedirs(f'tmat_Cyc_{i}')\n",
    "    os.makedirs(f'reg_bin_Cyc_{i}')\n",
    "    os.makedirs(f'reg_Cyc_{i}') \n",
    "    os.makedirs(f'tif/Cycle_{i}') \n",
    "os.makedirs(f'tif/Cycle_0')\n",
    "os.makedirs('output')"
   ]
  },
  {
   "cell_type": "code",
   "execution_count": null,
   "metadata": {},
   "outputs": [],
   "source": [
    "# Moving the images into their respective cycle directories, and removing empty original directories\n",
    "\n",
    "for i in range(CYCLE_NUMS):\n",
    "    if i == 0:\n",
    "        os.system('mv tif/Cycle_F*/* tif/Cycle_0')\n",
    "    os.system(f'mv tif/Cycle_*{i}*Field*/* tif/Cycle_{i}')\n",
    "\n",
    "os.system(f'rm -rf tif/Cycle_*Field*')"
   ]
  },
  {
   "cell_type": "code",
   "execution_count": null,
   "metadata": {},
   "outputs": [],
   "source": [
    "### CHECK IF REFERENCE FOV IS BEING MATCHED TO SAME MOVED FOV, ACROSS ALL CYCLES AND FOVS IN EVERY ITERATION\n",
    "\n",
    "for c in range(CYCLE_NUMS-1):   \n",
    "    refs = iter(sorted(glob.glob(f'tif/Cycle_0/*'))) # list of cycle 0 .tif \n",
    "    movs = iter(sorted(glob.glob(f'tif/Cycle_{c+1}/*'))) # cycle 1, 2, 3, .tif list --> FOV000, 001, (002 = error) 005 006 \n",
    "    for FOV in range(0, NUM_FOVS): \n",
    "        #sFOV = str(FOV).zfill(NUM_DIGITS_OF_FOVS)\n",
    "        ref_name = next(refs) \n",
    "        mov_name = next(movs)\n",
    "\n",
    "        ref_num = ref_name.split('_F')[1][0:3]\n",
    "        mov_num = mov_name.split('_F')[1][0:3]\n",
    "        if ref_num != mov_num:\n",
    "            print(\"False\")"
   ]
  },
  {
   "cell_type": "markdown",
   "metadata": {},
   "source": [
    "Jaccard index is a score to evaluate intersection divided by the union of the pixels in the image, which provides a metric of how overlapped the cells are.\n",
    "\n",
    "By comparing the jaccard indices of before registration and after registration, one can evaluate how well the registration has performed."
   ]
  },
  {
   "cell_type": "code",
   "execution_count": null,
   "metadata": {},
   "outputs": [],
   "source": [
    "# define the jaccard index calculating function\n",
    "\n",
    "def jaccard(img1, img2):\n",
    "    assert img1.dtype == 'bool', 'input must be boolean'\n",
    "    assert img2.dtype == 'bool', 'input must be boolean'\n",
    "    AND = np.sum(img1&img2)\n",
    "    OR = np.sum(img1|img2)\n",
    "    J = AND/OR\n",
    "    return J\n",
    "reg_J = pd.DataFrame()     # dataframe of jaccard index of cells after registration\n",
    "base_J = pd.DataFrame()     # dataframe of jaccard index of cells before registration"
   ]
  },
  {
   "cell_type": "code",
   "execution_count": null,
   "metadata": {
    "scrolled": true
   },
   "outputs": [],
   "source": [
    "# Here, we perform the registration for all cycles and FOVs\n",
    "\n",
    "for c in range(CYCLE_NUMS-1):    \n",
    "    refs = iter(sorted(glob.glob(f'tif/Cycle_0/*'))) # list of cycle 0 .tif \n",
    "    movs = iter(sorted(glob.glob(f'tif/Cycle_{c+1}/*'))) # cycle 1, 2, 3, .tif list --> FOV000, 001, (002 = error) 005 006 \n",
    "    for FOV in range(0, NUM_FOVS): \n",
    "        #sFOV = str(FOV).zfill(NUM_DIGITS_OF_FOVS)\n",
    "        ref_name = next(refs) \n",
    "        ref = imread(ref_name)\n",
    "        ref = ref.astype(np.uint16)\n",
    "        mov_name = next(movs)\n",
    "        mov = imread(mov_name)\n",
    "        mov = mov.astype(np.uint16)\n",
    "        FOV_num = mov_name.split('_F')[1][0:3]\n",
    "        print(f'cycle {c+1} field {FOV_num} ')\n",
    "\n",
    "        ref_max = ref.max(0)\n",
    "        ref_binary = ref_max[0] > threshold_otsu(ref_max[0]) # change 0 for whichever channel is the nuclei channel\n",
    "        mov_max = mov.max(0)\n",
    "        mov_binary = mov_max[0] > threshold_otsu(mov_max[0]) # change 0 for whichever channel is the nuclei channel\n",
    "        print(\"Got threshold\")\n",
    "        sr = StackReg(StackReg.RIGID_BODY)  \n",
    "        tmat = sr.register(ref_binary, mov_binary) \n",
    "        out = sr.transform(mov_binary) \n",
    "        out = pystackreg.util.to_uint16(out) \n",
    "        \n",
    "        base_J.loc[FOV_num, str(c+1)] = jaccard(ref_binary, mov_binary)\n",
    "        reg_J.loc[FOV_num, str(c+1)] = jaccard(ref_binary, out.astype('bool'))\n",
    "\n",
    "        # save binary\n",
    "        fname_to_save = f'reg_bin_Cyc_{c+1}' + f'/Cycle_{c+1}_F{FOV_num}_bin_reg.tif'\n",
    "        print('Saving Binary Registered Images...', fname_to_save)\n",
    "        tifffile.imwrite(fname_to_save, out, imagej=True, photometric = 'minisblack',metadata={'axes':'YX'})\n",
    "\n",
    "        # save tmat\n",
    "        print(\"saving tmat\")\n",
    "        np.save(f'tmat_Cyc_{c+1}' + f'/Cycle_{c+1}_F{FOV_num}_tmat.npy', tmat)\n",
    "        \n",
    "        # THE REGISTRATION STEP\n",
    "        reg = np.zeros(mov.shape, dtype=np.uint16)               # initialize with the right dtype\n",
    "        for Z in range(mov.shape[0]):\n",
    "            print(f\"Z-plane: {Z} registering\")\n",
    "            for ch in range(mov.shape[1]): \n",
    "                reg[Z,ch,...] = sr.transform(mov[Z,ch,...], tmat=tmat)\n",
    "                reg[Z,ch,...] = to_uint16(reg[Z,ch,...])\n",
    "\n",
    "        fname_to_save = f'reg_Cyc_{c+1}' + f'/Cycle_{c+1}_F{FOV_num}_reg.tif'\n",
    "        print('Saving Registered Images...', fname_to_save)\n",
    "        tifffile.imwrite(fname_to_save, reg, imagej=True,\n",
    "                         photometric = 'minisblack',metadata={'axes':'ZCYX'})\n",
    "\n",
    "# Saving jaccard index dataframes        \n",
    "base_J.to_csv('output/base_J.csv')\n",
    "reg_J.to_csv('output/reg_J.csv')"
   ]
  },
  {
   "cell_type": "markdown",
   "metadata": {},
   "source": [
    "# Looking at X and Y pixel shifts and comparing them to the jaccard index shift from before to after registration"
   ]
  },
  {
   "cell_type": "markdown",
   "metadata": {},
   "source": [
    "This step helps with looking at all of the X and Y shifts that are over a certain threshold number, defined by the user. Here it is defined as 15, but it can change depending on what kind of data you are working with, and what kind of max and min range of shift occured from the registration."
   ]
  },
  {
   "cell_type": "code",
   "execution_count": 3,
   "metadata": {},
   "outputs": [],
   "source": [
    "for idx, c in enumerate(range(CYCLE_NUMS-1)):     \n",
    "    tmats = iter(glob.glob(f'tmat_Cyc_{c+1}/*'))\n",
    "    for sFOV in range(0,NUM_FOVS): \n",
    "        tmat_name = next(tmats)\n",
    "        tmat_loaded = np.load(tmat_name)\n",
    "        moveX = tmat_loaded[0,2]\n",
    "        moveY = tmat_loaded[1,2]\n",
    "        if (moveX > 15) | (moveY > 15)|(moveX < -15) | (moveY < -15):     # 15 is an arbitraty number\n",
    "            print(c+1, tmat_name, moveX, moveY)"
   ]
  },
  {
   "cell_type": "code",
   "execution_count": 8,
   "metadata": {},
   "outputs": [],
   "source": [
    "# Be sure to remove problematic FOVs and then updating NUM_FOVS with the new number of FOVs\n",
    "dfX_shift = pd.DataFrame()\n",
    "dfY_shift = pd.DataFrame()\n",
    "for idx, c in enumerate(range(CYCLE_NUMS-1)):\n",
    "    tmats = iter(sorted(glob.glob(f'tmat_Cyc_{c+1}/*')))\n",
    "    for sFOV in range(0,NUM_FOVS):\n",
    "        tmat_name = next(tmats)\n",
    "        FOV_num = tmat_name.split('_F')[1][0:3]\n",
    "        tmat_loaded = np.load(tmat_name)\n",
    "        moveX = tmat_loaded[0,2]\n",
    "        moveY = tmat_loaded[1,2]\n",
    "\n",
    "        dfX_shift.loc[FOV_num, str(c+1)] = moveX\n",
    "        dfY_shift.loc[FOV_num, str(c+1)] = moveY\n",
    "dfX_shift.to_csv('output/X_shift.csv')\n",
    "dfY_shift.to_csv('output/Y_shift.csv')"
   ]
  },
  {
   "cell_type": "code",
   "execution_count": 9,
   "metadata": {},
   "outputs": [],
   "source": [
    "base_J = pd.read_csv('output/base_J.csv')\n",
    "reg_J = pd.read_csv('output/reg_J.csv')\n",
    "dfY_shift = pd.read_csv(\"output/Y_shift.csv\")\n",
    "dfY_shift = dfY_shift.drop([\"Unnamed: 0\"], axis=1)\n",
    "dfX_shift = pd.read_csv(\"output/X_shift.csv\")\n",
    "dfX_shift = dfX_shift.drop([\"Unnamed: 0\"], axis=1)"
   ]
  },
  {
   "cell_type": "code",
   "execution_count": 12,
   "metadata": {
    "tags": []
   },
   "outputs": [
    {
     "data": {
      "image/png": "[encoded data removed]",
      "text/plain": [
       "<Figure size 1440x720 with 6 Axes>"
      ]
     },
     "metadata": {
      "needs_background": "light"
     },
     "output_type": "display_data"
    }
   ],
   "source": [
    "fig, axs = plt.subplots(CYCLE_NUMS-1, 3, figsize=(20,10))\n",
    "\n",
    "for cycle in range(CYCLE_NUMS-1):\n",
    "    axs[cycle][0].hist(reg_J[f'{cycle+1}'], bins = 50, alpha=0.5, label='reg_J', range=[0,1])\n",
    "    axs[cycle][0].hist(base_J[f'{cycle+1}'], bins = 50, alpha=0.5, label='base_J', range=[0,1])\n",
    "    \n",
    "    axs[cycle][1].hist(dfY_shift[f'{cycle+1}'], bins = 50, alpha=0.5, label='dfX_shift', range=[-20,20])\n",
    "    axs[cycle][2].hist(dfX_shift[f'{cycle+1}'], bins = 50, alpha=0.5, label='dfX_shift', range=[-20,20])\n",
    "    \n",
    "    axs[cycle][0].title.set_text(f'Change in Jaccard Index - Cycle {cycle+1}')\n",
    "    axs[cycle][1].title.set_text(f'Y Shift - Cycle {cycle+1}')\n",
    "    axs[cycle][2].title.set_text(f'X Shift - Cycle {cycle+1}')\n",
    "\n",
    "#     for ax in axs.flat:\n",
    "#         ax.set(xlabel='', ylabel='')"
   ]
  },
  {
   "cell_type": "markdown",
   "metadata": {},
   "source": [
    "# X and Y Shift Visualization"
   ]
  },
  {
   "cell_type": "markdown",
   "metadata": {},
   "source": [
    "If you want to look at the X and Y shifts for the FOVs of a Cycle all at once, follow this documentation:\n",
    "https://docs.google.com/document/d/1Uq9HvGrfsr2ouOF2G_iSteotao5TVL7JSXSAZJjwyH4/edit"
   ]
  },
  {
   "cell_type": "code",
   "execution_count": 27,
   "metadata": {},
   "outputs": [
    {
     "data": {
      "text/plain": [
       "Text(0.5, 0.98, 'Cycle 1 Y-shift')"
      ]
     },
     "execution_count": 27,
     "metadata": {},
     "output_type": "execute_result"
    },
    {
     "data": {
      "image/png": "[encoded data removed]",
      "text/plain": [
       "<Figure size 432x288 with 2 Axes>"
      ]
     },
     "metadata": {
      "needs_background": "light"
     },
     "output_type": "display_data"
    },
    {
     "data": {
      "image/png": "[encoded data removed]",
      "text/plain": [
       "<Figure size 432x288 with 2 Axes>"
      ]
     },
     "metadata": {
      "needs_background": "light"
     },
     "output_type": "display_data"
    }
   ],
   "source": [
    "cycle_to_check = 1     # define which cycle you are checking - in this example, we are checking Cycle 1 \n",
    "\n",
    "fig, axes = plt.subplots()\n",
    "tmats = iter(glob.glob(f'tmat_Cyc_{cycle_to_check}/*'))\n",
    "dfX = pd.DataFrame(0, index=['0','1','2', '3', '4'], # change for number of rows - this example is 5 rows (0 to 4)\n",
    "               columns=['0','1','2', '3', '4']) # change for number of columns - this example is 5 columns (0 to 4)\n",
    "dfY = pd.DataFrame(0, index=['0','1','2', '3', '4'], # change for number of rows - this example is 5 rows (0 to 4)\n",
    "               columns=['0','1','2', '3', '4']) # change for number of columns - this example is 5 columns (0 to 4)\n",
    "for sFOV in range(0,NUM_FOVS):\n",
    "    tmat_name = next(tmats)\n",
    "    tmat_loaded = np.load(tmat_name)\n",
    "    moveX = tmat_loaded[0,2]\n",
    "    moveY = tmat_loaded[1,2]\n",
    "\n",
    "    col = str(int(tmat_name.split('_')[6]))\n",
    "    row = str(int(tmat_name.split('_')[7][0:3]))\n",
    "\n",
    "    dfX.loc[row, col] = moveX\n",
    "    dfY.loc[row, col] = moveY\n",
    "\n",
    "sns.heatmap(dfX, vmin=-20, vmax=20, annot=True)\n",
    "pl.suptitle(f\"Cycle {cycle_to_check} X-shift\")\n",
    "    \n",
    "fig, axes = plt.subplots()\n",
    "sns.heatmap(dfY, vmin=-100, vmax=100, annot=True)\n",
    "pl.suptitle(f\"Cycle {cycle_to_check} Y-shift\")"
   ]
  },
  {
   "cell_type": "markdown",
   "metadata": {},
   "source": [
    "# Merging and Cropping"
   ]
  },
  {
   "cell_type": "markdown",
   "metadata": {},
   "source": [
    "In this step, we are merging all of the channels across all cycles, and then cropping the images so that the rotation artifacts from registration is not included in the final images."
   ]
  },
  {
   "cell_type": "code",
   "execution_count": null,
   "metadata": {},
   "outputs": [],
   "source": [
    "# Make sure NUM_FOVS is correctly defined\n",
    "NUM_FOVS"
   ]
  },
  {
   "cell_type": "code",
   "execution_count": null,
   "metadata": {
    "scrolled": true
   },
   "outputs": [],
   "source": [
    "# checking for X and Y shifts, both min and max\n",
    "\n",
    "x_max_list=[]\n",
    "x_min_list=[]\n",
    "y_max_list=[]\n",
    "y_min_list=[]\n",
    "X_indices =[]\n",
    "Y_indices =[]\n",
    "X_SHIFT_df = pd.DataFrame\n",
    "Y_SHIFT_df = pd.DataFrame\n",
    "\n",
    "for c in range(CYCLE_NUMS-1):     \n",
    "    tmats = iter(glob.glob(f'tmat_Cyc_{c+1}/*'))\n",
    "    X_SHIFT = []\n",
    "    Y_SHIFT = []\n",
    "    X_RIG = []\n",
    "    Y_RIG = []\n",
    "    for sFOV in range(0,NUM_FOVS): \n",
    "        tmat_name = next(tmats)\n",
    "        fov = tmat_name.split('_F')[1][0:3]\n",
    "        tmat_loaded = np.load(tmat_name)\n",
    "        moveX = tmat_loaded[0,2]\n",
    "        moveY = tmat_loaded[1,2]\n",
    "        if moveX > 0:\n",
    "            moveX = moveX + 2048*np.tan(np.arcsin(tmat_loaded[0,1]))\n",
    "            X_RIG = []\n",
    "        if moveY < 0:\n",
    "            moveY = moveY - 2048*np.tan(np.arcsin(tmat_loaded[0,1]))\n",
    "        X_SHIFT.append(moveX)\n",
    "        Y_SHIFT.append(moveY)\n",
    "        \n",
    "#         X_SHIFT_df.loc[fov, c] = moveX\n",
    "#         Y_SHIFT_df.loc[fov, c] = moveY\n",
    "\n",
    "    X_max = max(X_SHIFT)\n",
    "    X_min = min(X_SHIFT)\n",
    "    Y_max = max(Y_SHIFT)\n",
    "    Y_min = min(Y_SHIFT)\n",
    "\n",
    "    print('\\n', f'tmat_Cyc_{c+1} \\n', X_max,X_min,Y_max,Y_min)\n",
    "\n",
    "    def round_shift(val):\n",
    "        import math\n",
    "        if val <0: # if negative,\n",
    "            val = math.floor(val)\n",
    "        else:\n",
    "            val = math.ceil(val)\n",
    "        return val\n",
    "\n",
    "    X_max = round_shift(X_max)\n",
    "    X_min = round_shift(X_min)\n",
    "    Y_max = round_shift(Y_max)\n",
    "    Y_min = round_shift(Y_min)\n",
    "    \n",
    "    x_max_list.append(X_max)\n",
    "    x_min_list.append(X_min)\n",
    "    y_max_list.append(Y_max)\n",
    "    y_min_list.append(Y_min)\n",
    "    print(f'X_max:{X_max}',f'X_min:{X_min}',f'Y_max:{Y_max}',f'Y_min:{Y_min}')\n",
    "\n",
    "X_max_total = max(x_max_list)\n",
    "X_min_total = min(x_min_list)\n",
    "Y_max_total = max(y_max_list)\n",
    "Y_min_total = min(y_min_list)\n",
    "\n",
    "print('\\n', f'X_max_total:{X_max_total}', f'X_min_total:{X_min_total}', \n",
    "      f'Y_max_total:{Y_max_total}', f'Y_min_total:{Y_min_total}')\n",
    "\n",
    "# X_SHIFT_df.to_csv('X_SHIFT_df.csv',sep=',')\n",
    "# Y_SHIFT_df.to_csv('Y_SHIFT_df.csv',sep=',')"
   ]
  },
  {
   "cell_type": "code",
   "execution_count": null,
   "metadata": {},
   "outputs": [],
   "source": [
    "# checking shape of a reference image and defining the X and Y dimensions before cropping\n",
    "\n",
    "im1 = imread('tif/Cycle_0/Cycle_F000.tif')\n",
    "Y_total = len(im1[0][0][0])    # 2048\n",
    "X_total = len(im1[0][0][1])    # 2048\n",
    "print(Y_total, X_total)"
   ]
  },
  {
   "cell_type": "code",
   "execution_count": null,
   "metadata": {},
   "outputs": [],
   "source": [
    "# defining the cropping function \n",
    "\n",
    "X_abs_shift = [abs(X_max_total), abs(X_min_total)]\n",
    "Y_abs_shift = [abs(Y_max_total), abs(Y_min_total)] \n",
    "\n",
    "def crop(X_x, X_n, Y_x, Y_n, img, pad):\n",
    "    Y_total = img.shape[3]    # 2048\n",
    "    X_total = img.shape[-1]     # 2048\n",
    "    print('image shape', Y_total, X_total)\n",
    "    \n",
    "    if X_x * X_n > 0:   # same signs --> both negative or both positive\n",
    "        Xlength = X_total - (max(X_abs_shift))\n",
    "        print(Xlength)\n",
    "        if X_x > 0: # moving left\n",
    "            img = img[...,:, 0+pad:Xlength-pad]\n",
    "        if X_x < 0:  # moving right \n",
    "            img = img[...,:, abs(X_n)+pad:X_total-pad]\n",
    "\n",
    "    if X_x * X_n < 0:   # diff signs --> one is positive and other is negative\n",
    "        Xlength = X_total  - (abs(X_x) + abs(X_n))\n",
    "        print(Xlength)\n",
    "        img = img[...,:, abs(X_n)+pad: X_total - abs(X_x)-pad] \n",
    "        \n",
    "    if X_x == 0 and X_n < 0:\n",
    "        Xlength = X_total  - abs(X_n)\n",
    "        print(Xlength)\n",
    "        img = img[...,:, abs(X_n)+pad:X_total-pad]\n",
    "    if X_x == 0 and X_n == 0:\n",
    "        Xlength = X_total\n",
    "        print(Xlength)\n",
    "        img = img[...,:, 0+pad:X_total-pad]\n",
    "    if X_x > 0 and X_n == 0:\n",
    "        Xlength = X_total - X_x\n",
    "        print(Xlength)\n",
    "        img = img[...,:, 0+pad:Xlength-pad]\n",
    "### Y ## #\n",
    "    if Y_x * Y_n > 0:   \n",
    "        Ylength = Y_total - (max(Y_abs_shift))\n",
    "        print(Ylength)\n",
    "        if Y_x > 0: # up\n",
    "            img = img[..., 0+pad:Ylength-pad, :]\n",
    "        if Y_x < 0: # down\n",
    "            img = img[...,abs(Y_n)+pad:Y_total-pad, :]\n",
    "            \n",
    "    if Y_x * Y_n < 0:  # Y_x > 0 , Y_n < 0\n",
    "        Ylength = Y_total  - (abs(Y_x) + abs(Y_n)) # \n",
    "        print(Ylength)\n",
    "        img = img[...,abs(Y_n)+pad:Y_total-abs(Y_x)-pad, :] \n",
    "        \n",
    "    if Y_x == 0 and Y_n < 0: # down\n",
    "        Ylength = Y_total  - abs(Y_n)\n",
    "        print(Ylength)\n",
    "        img = img[..., abs(Y_n)+pad:Y_total-pad, :]\n",
    "        \n",
    "    if Y_x == 0 and Y_n == 0:\n",
    "        Ylength = Y_total\n",
    "        print(Ylength)\n",
    "        img = img[..., 0+pad:Y_total-pad,:]\n",
    "        \n",
    "    if Y_x > 0 and Y_n == 0:\n",
    "        Ylength = Y_total - Y_x ## \n",
    "        print(Ylength)\n",
    "        img = img[..., 0+pad:Ylength-pad, :] ## up  \n",
    "    Xlength = Xlength - (pad*2)\n",
    "    Ylength = Ylength - (pad*2)\n",
    "    return Xlength, Ylength, img"
   ]
  },
  {
   "cell_type": "code",
   "execution_count": null,
   "metadata": {},
   "outputs": [],
   "source": [
    "IN_DIR = 'reg'\n",
    "MERGE_DIR = 'merged' # output directory to save\n",
    "Z = 10\n",
    "final_ch = 10  # final channel number\n",
    "\n",
    "pad = 10 # 10 pixel padding\n",
    "\n",
    "!mkdir merged\n",
    "!mkdir max \n",
    "!mkdir images_2_channel"
   ]
  },
  {
   "cell_type": "code",
   "execution_count": null,
   "metadata": {
    "scrolled": true
   },
   "outputs": [],
   "source": [
    "# Running merge and crop\n",
    "\n",
    "refs = iter(glob.glob('tif/Cycle_0/*')) \n",
    "for FOV in range(NUM_FOVS):\n",
    "    ref_name = next(refs)\n",
    "    FOV_num = ref_name.split('_F')[1][0:3]\n",
    "    print(\"FOV\", FOV_num)\n",
    "    #sFOV = str(FOV).zfill(NUM_DIGITS_OF_FOVS)\n",
    "    img = imread(f'tif/Cycle_0/Cycle_F{FOV_num}.tif') # reference image that did not move\n",
    "    img = img.astype(np.uint16)\n",
    "    print(\"image max:\",img.max())\n",
    "    for cycle in range(CYCLE_NUMS-1):    \n",
    "        fname = f'{IN_DIR}_Cyc_{cycle+1}/Cycle_{cycle+1}_F{FOV_num}_{IN_DIR}.tif'\n",
    "        print('Appending... ', fname)\n",
    "        im_to_add = imread(fname).astype(np.uint16)\n",
    "        print(im_to_add.max())\n",
    "        im_to_add[:,0,...] = img[:,0,...]\n",
    "        img_last_3 = img[:,1:,...]\n",
    "        img = np.append(im_to_add, img_last_3, axis=1) # concatenate along channel index\n",
    "        print(f\"Shape = {img.shape}\") \n",
    "    fname = f'/F{FOV_num}.tif'\n",
    "    print('saving', './{MERGE_DIR}'+fname)\n",
    "    print('dtype of ', img.dtype)\n",
    "\n",
    "    ########## CROP ################ --> CHANGE everytime depending on shifts\n",
    "    Xlength, Ylength, img = crop(X_max_total, X_min_total, Y_max_total, Y_min_total, img, pad)\n",
    "\n",
    "    assert img.shape[3] == Xlength, \"Check X size\"\n",
    "    assert img.shape[2] == Ylength, \"Check Y size\"\n",
    "\n",
    "    ### FINAL CHECK before saving ### \n",
    "    print(\"image Z:\",img.shape[0])\n",
    "    assert img.shape[0] == Z, \"Check ZCYX\"\n",
    "    print(\"image final_ch:\",img.shape[1])\n",
    "    assert img.shape[1] == final_ch, \"check final merge size\"\n",
    "    print(\"image max:\", img.max())\n",
    "\n",
    "    tifffile.imwrite(\n",
    "        f'./{MERGE_DIR}'+fname,\n",
    "        img,\n",
    "        imagej=True,\n",
    "        photometric='minisblack',\n",
    "        metadata={'axes': 'ZCYX'},\n",
    "    )\n",
    "\n",
    "    del img # clear memory\n",
    "    del im_to_add\n",
    "    \n",
    "for i in range(NUM_FOVS):\n",
    "    try:\n",
    "        sFOV = str(i).zfill(3)\n",
    "        im = imread(f'merged/F{sFOV}.tif')\n",
    "        max_im = im.max(0)\n",
    "        tifffile.imwrite(f'max/F{sFOV}_max.tif', max_im, imagej=True, photometric = 'minisblack',metadata={'axes':'CYX'})\n",
    "    except:\n",
    "        continue\n",
    "\n",
    "for i in range(NUM_FOVS):\n",
    "    try:\n",
    "        print(i)\n",
    "        FOV = str(i).zfill(3)\n",
    "        im_name = f'max/F{FOV}_max.tif'\n",
    "        im1 = imread(im_name)\n",
    "        im1_save = im1[[0, 1], ...]   ### CHANGE THIS DEPENDING ON THE DATA -- DNA AND RNA CHANNELS\n",
    "        tifffile.imwrite(f'images_2_channel/F{FOV}_max.tif', im1_save, imagej=True, photometric = 'minisblack',metadata={'axes':'CYX'})\n",
    "    except:\n",
    "        print(i, \"does not exist\")"
   ]
  },
  {
   "cell_type": "markdown",
   "metadata": {},
   "source": [
    "# You can end the pipeline here and move onto cell segmentation: https://docs.google.com/document/d/1Hv0edCc2tVscYzYVikYOnAQ2kpr2FL43yKQp3d3ghVw/edit\n",
    "# -----------------------------------------------------------------------------------------------------------------\n",
    "\n",
    "# Or, you can do additional QC if you think your dataset might have pixel intensity errors or file corruption:\n"
   ]
  },
  {
   "cell_type": "markdown",
   "metadata": {},
   "source": [
    "# Extreme Pixel Intensity Check"
   ]
  },
  {
   "cell_type": "markdown",
   "metadata": {},
   "source": [
    "In this step, we are checking for any extreme pixel intensities, which can be a result from technical artifact, image corruption, or registration artifact. Here are some example images:\n",
    "https://docs.google.com/document/d/1WVpozq1bkTRrcFzSM9a1nZV3uN38_Mcf0io2X5xNlyI/edit"
   ]
  },
  {
   "cell_type": "code",
   "execution_count": null,
   "metadata": {
    "scrolled": true
   },
   "outputs": [],
   "source": [
    "# creating a dataframe of potential extremel pixel intensities\n",
    "\n",
    "int_counts = pd.DataFrame()\n",
    "one_to_five_list = []\n",
    "sixfivek_list = []\n",
    "z_list = []\n",
    "\n",
    "merged = iter(glob.glob('merged/*')) \n",
    "for FOV in range(NUM_FOVS):\n",
    "    merged_name = next(merged)\n",
    "    img = imread(merged_name)\n",
    "    img = img.astype(np.uint16)\n",
    "    FOV_num = merged_name.split('/F')[1][0:3]\n",
    "    print(\"FOV\", FOV_num)\n",
    "    \n",
    "    overall_count_zero = np.count_nonzero(img == 0)\n",
    "    x = np.count_nonzero((0 < img) & (img < 6))\n",
    "    y = np.count_nonzero(65000 < img)\n",
    "     \n",
    "    for Z in range(img.shape[0]):\n",
    "        print(Z)\n",
    "        for ch in range(img.shape[1]): \n",
    "            count_zeros = np.count_nonzero(img[Z,ch,...] == 0)\n",
    "            if count_zeros > 0:\n",
    "                z_list.append((FOV_num, Z, ch))\n",
    "            count = np.count_nonzero((0 < img[Z,ch,...]) & (img[Z,ch,...] < 6))\n",
    "            if count > 0:\n",
    "                one_to_five_list.append((FOV_num, Z, ch))\n",
    "            count = np.count_nonzero(65000 < img[Z,ch,...])\n",
    "            if count > 0:\n",
    "                sixfivek_list.append((FOV_num, Z, ch))\n",
    "                \n",
    "    int_counts.loc[FOV_num, 'FOV_num'] = FOV_num\n",
    "    int_counts.loc[FOV_num, 'total Zero count'] = overall_count_zero\n",
    "    int_counts.loc[FOV_num, 'one to five'] = x\n",
    "    int_counts.loc[FOV_num, 'greater 65K'] = y\n",
    "int_counts.to_csv('output/pixel_intensity_counts_table.csv')    \n"
   ]
  },
  {
   "cell_type": "code",
   "execution_count": null,
   "metadata": {
    "scrolled": true
   },
   "outputs": [],
   "source": [
    "int_counts"
   ]
  },
  {
   "cell_type": "code",
   "execution_count": null,
   "metadata": {},
   "outputs": [],
   "source": [
    "len(sixfivek_list)"
   ]
  },
  {
   "cell_type": "code",
   "execution_count": null,
   "metadata": {},
   "outputs": [],
   "source": [
    "len(one_to_five_list)"
   ]
  },
  {
   "cell_type": "code",
   "execution_count": null,
   "metadata": {},
   "outputs": [],
   "source": [
    "len(z_list)"
   ]
  },
  {
   "cell_type": "code",
   "execution_count": null,
   "metadata": {},
   "outputs": [],
   "source": [
    "for idx, val in enumerate(int_counts['greater 65K']):\n",
    "    if val != 0:\n",
    "        print(int(int_counts.iloc[idx, 2]), \"FOV:\", int_counts.iloc[idx, 0])"
   ]
  },
  {
   "cell_type": "code",
   "execution_count": null,
   "metadata": {
    "scrolled": true
   },
   "outputs": [],
   "source": [
    "for idx, val in enumerate(int_counts['one to five']):\n",
    "    if val != 0:\n",
    "        print(int(int_counts.iloc[idx, 2]), \"FOV:\", int_counts.iloc[idx, 0])"
   ]
  },
  {
   "cell_type": "code",
   "execution_count": null,
   "metadata": {},
   "outputs": [],
   "source": [
    "for idx, val in enumerate(int_counts['total Zero count']):\n",
    "    if val != 0:\n",
    "        print(int(int_counts.iloc[idx, 2]), \"FOV:\", int_counts.iloc[idx, 0])"
   ]
  },
  {
   "cell_type": "code",
   "execution_count": null,
   "metadata": {
    "scrolled": true
   },
   "outputs": [],
   "source": [
    "# LOOKING FOR WHICH FOVS HAVE THE BLACK BOXES\n",
    "black_box = []\n",
    "for idx, val in enumerate(int_counts['total Zero count']):\n",
    "    if val > 2000:\n",
    "        black_box.append(int_counts.iloc[idx, 0])\n",
    "        print(int_counts.iloc[idx, 0], val)\n",
    "black_box"
   ]
  },
  {
   "cell_type": "code",
   "execution_count": null,
   "metadata": {
    "scrolled": true
   },
   "outputs": [],
   "source": [
    "len(black_box)"
   ]
  },
  {
   "cell_type": "markdown",
   "metadata": {},
   "source": [
    "# Black Box "
   ]
  },
  {
   "cell_type": "markdown",
   "metadata": {},
   "source": [
    "This is a continuation of looking for artifacts that can affect downstream analysis. Black boxes specifically are from image corruption. It is best to get rid of FOVs that might have such artifacts. Here is the document with the example: https://docs.google.com/document/d/1WVpozq1bkTRrcFzSM9a1nZV3uN38_Mcf0io2X5xNlyI/edit"
   ]
  },
  {
   "cell_type": "code",
   "execution_count": null,
   "metadata": {
    "scrolled": true
   },
   "outputs": [],
   "source": [
    "df_black_box = pd.DataFrame()\n",
    "for idx, i in enumerate(z_list):\n",
    "    if i[0] in black_box:\n",
    "        df_black_box.loc[idx, 'FOV_num'] = i[0]\n",
    "        df_black_box.loc[idx, 'Z'] = i[1]\n",
    "        df_black_box.loc[idx, 'channel'] = i[2]\n",
    "        \n",
    "df_black_box\n",
    "df_black_box.to_csv('output/black_box_locations.csv')"
   ]
  },
  {
   "cell_type": "code",
   "execution_count": null,
   "metadata": {
    "scrolled": true
   },
   "outputs": [],
   "source": [
    "# total num of pixels is 3995601 (because 2019*1979)\n",
    "total = img.shape[2] * img.shape[3]\n",
    "# here we get percent of 0 intensity count, 0<x<6 and greater than 65k\n",
    "percents = int_counts.copy()\n",
    "percents['total Zero count'] = percents['total Zero count'].div(total)\n",
    "percents['one to five'] = percents['one to five'].div(total)\n",
    "percents['greater 65K'] = percents['greater 65K'].div(total)\n",
    "percents"
   ]
  },
  {
   "cell_type": "code",
   "execution_count": null,
   "metadata": {},
   "outputs": [],
   "source": [
    "percents.to_csv('output/percent_intensity_table.csv')"
   ]
  },
  {
   "cell_type": "code",
   "execution_count": null,
   "metadata": {
    "scrolled": true
   },
   "outputs": [],
   "source": [
    "# Obtain percentiles of pixel intensities\n",
    "percentiles = pd.DataFrame()\n",
    "\n",
    "merged = iter(glob.glob('merged/*')) \n",
    "for FOV in range(NUM_FOVS):\n",
    "    merged_name = next(merged)\n",
    "    img = imread(merged_name)\n",
    "    img = img.astype(np.uint16)\n",
    "    FOV_num = merged_name.split('/F')[1][0:3]\n",
    "    print(\"FOV\", FOV_num)\n",
    "\n",
    "    for ch in range(img.shape[1]): \n",
    "        arr = img[:,ch,...]\n",
    "        percent = 0\n",
    "        while np.percentile(arr, percent) == 0:\n",
    "            percent += 1\n",
    "        percentiles.loc[FOV_num, f'ch{ch}_cutoff_perc'] = percent # by the +1, you will know if there are ANY 0's\n",
    "        \n",
    "        percentiles.loc[FOV_num, f'ch{ch}_0th_perc'] = np.percentile(arr, 0)\n",
    "        percentiles.loc[FOV_num, f'ch{ch}_0.001st_perc'] = np.percentile(arr, 0.001)\n",
    "        percentiles.loc[FOV_num, f'ch{ch}_0.01st_perc'] = np.percentile(arr, 0.01)\n",
    "        percentiles.loc[FOV_num, f'ch{ch}_0.1st_perc'] = np.percentile(arr, 0.1)\n",
    "        percentiles.loc[FOV_num, f'ch{ch}_0.5th_perc'] = np.percentile(arr, 0.5)\n",
    "        percentiles.loc[FOV_num, f'ch{ch}_1st_perc'] = np.percentile(arr, 1)\n",
    "        percentiles.loc[FOV_num, f'ch{ch}_5th_perc'] = np.percentile(arr, 5)\n",
    "        percentiles.loc[FOV_num, f'ch{ch}_10th_perc'] = np.percentile(arr, 10)\n",
    "        percentiles.loc[FOV_num, f'ch{ch}_90th_perc'] = np.percentile(arr, 90)\n",
    "        percentiles.loc[FOV_num, f'ch{ch}_95th_perc'] = np.percentile(arr, 95)\n",
    "        percentiles.loc[FOV_num, f'ch{ch}_99th_perc'] = np.percentile(arr, 99)\n",
    "        percentiles.loc[FOV_num, f'ch{ch}_100th_perc'] = np.percentile(arr, 100)\n",
    "\n",
    "\n",
    "percentiles.to_csv('percentiles.csv')"
   ]
  },
  {
   "cell_type": "code",
   "execution_count": null,
   "metadata": {},
   "outputs": [],
   "source": [
    "percentiles"
   ]
  },
  {
   "cell_type": "code",
   "execution_count": null,
   "metadata": {
    "scrolled": true
   },
   "outputs": [],
   "source": [
    "zeroth_perc = percentiles.filter(regex=(\".*_0th.*\"))\n",
    "zeroth_perc"
   ]
  },
  {
   "cell_type": "code",
   "execution_count": null,
   "metadata": {},
   "outputs": [],
   "source": [
    "# histogram of max 0th percentile values across all channels\n",
    "\n",
    "plt.hist(zeroth_perc.max().to_frame()[0],bins = 20)"
   ]
  },
  {
   "cell_type": "code",
   "execution_count": null,
   "metadata": {},
   "outputs": [],
   "source": [
    "# replace with whatever channel you want to check\n",
    "plt.hist(percentiles['ch0_0th_perc'], bins = 100, alpha=0.5, range=[0, 420], label = '0_perc')\n",
    "plt.hist(percentiles['ch0_0.001st_perc'], bins = 100, alpha=0.5, range=[0, 420], label = '0.001_perc')\n",
    "plt.hist(percentiles['ch0_0.1st_perc'], bins = 100, alpha=0.5, range=[0, 420], label = '0.1_perc')\n",
    "plt.hist(percentiles['ch0_5th_perc'], bins = 100, alpha=0.5, range=[0, 420], label = '5_perc')\n",
    "plt.hist(percentiles['ch0_10th_perc'], bins = 100, alpha=0.5, range=[0, 420], label = '10_perc')\n",
    "plt.legend(loc='upper left')\n",
    "plt.suptitle(f\"Channel 0 -- percentiles\")"
   ]
  },
  {
   "cell_type": "code",
   "execution_count": null,
   "metadata": {
    "scrolled": true
   },
   "outputs": [],
   "source": [
    "### for looking at all of the channels \n",
    "for i in range(38):\n",
    "    fig, axes = plt.subplots()\n",
    "    plt.hist(percentiles[f'ch{i}_0th_perc'], bins = 100, alpha=0.5, range=[0, 110], label = '0_perc')\n",
    "    plt.hist(percentiles[f'ch{i}_0.001st_perc'], bins = 100, alpha=0.5, range=[0, 110], label = '0.001_perc')\n",
    "    plt.hist(percentiles[f'ch{i}_0.1st_perc'], bins = 100, alpha=0.5, range=[0, 110], label = '0.1_perc')\n",
    "    plt.hist(percentiles[f'ch{i}_5th_perc'], bins = 100, alpha=0.5, range=[0, 110], label = '5_perc')\n",
    "    plt.hist(percentiles[f'ch{i}_10th_perc'], bins = 100, alpha=0.5, range=[0, 110], label = '10_perc')\n",
    "    plt.legend(loc='upper left')\n",
    "    plt.suptitle(f\"Channel {i} -- percentiles\")\n",
    "    \n",
    "#     fig, axes = plt.subplots()\n",
    "#     sns.heatmap(dfY, vmin=-100, vmax=100)\n",
    "#     pl.suptitle(f\"Cycle {c+1} Y-shift\")"
   ]
  },
  {
   "cell_type": "code",
   "execution_count": null,
   "metadata": {},
   "outputs": [],
   "source": []
  }
 ],
 "metadata": {
  "kernelspec": {
   "display_name": "Python 3 (ipykernel)",
   "language": "python",
   "name": "python3"
  },
  "language_info": {
   "codemirror_mode": {
    "name": "ipython",
    "version": 3
   },
   "file_extension": ".py",
   "mimetype": "text/x-python",
   "name": "python",
   "nbconvert_exporter": "python",
   "pygments_lexer": "ipython3",
   "version": "3.7.4"
  }
 },
 "nbformat": 4,
 "nbformat_minor": 4
}
