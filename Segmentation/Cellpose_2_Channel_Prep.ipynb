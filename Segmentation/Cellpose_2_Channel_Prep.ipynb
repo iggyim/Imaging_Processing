{
 "cells": [
  {
   "cell_type": "code",
   "execution_count": 2,
   "metadata": {},
   "outputs": [],
   "source": [
    "import matplotlib.pyplot as plt\n",
    "import matplotlib.patches as patches\n",
    "from pathlib import Path\n",
    "import numpy as np\n",
    "import os\n",
    "import sys\n",
    "import glob\n",
    "#import pandas as pd\n",
    "import xml.etree.ElementTree as et\n",
    "import datetime\n",
    "from skimage.io import imread, imsave\n",
    "from imageio import volread as imread\n",
    "\n",
    "import tifffile\n",
    "from skimage.filters import threshold_otsu\n",
    "\n",
    "from tqdm.notebook import tqdm"
   ]
  },
  {
   "cell_type": "code",
   "execution_count": 5,
   "metadata": {},
   "outputs": [],
   "source": [
    "# Defining the directory where the images are\n",
    "\n",
    "images = \"tif\"   "
   ]
  },
  {
   "cell_type": "code",
   "execution_count": 11,
   "metadata": {},
   "outputs": [
    {
     "name": "stdout",
     "output_type": "stream",
     "text": [
      "mkdir: cannot create directory ‘images_2_channel’: File exists\r\n"
     ]
    }
   ],
   "source": [
    "# load up tif images to make 2 channel\n",
    "\n",
    "images = glob.glob(f\"{images}/*Plate*/*\")\n",
    "!mkdir images_2_channel"
   ]
  },
  {
   "cell_type": "code",
   "execution_count": 15,
   "metadata": {},
   "outputs": [
    {
     "name": "stdout",
     "output_type": "stream",
     "text": [
      "images_2_channel/Plate_1_20X_F073.tif\n",
      "images_2_channel/Plate_1_20X_F075.tif\n",
      "images_2_channel/Plate_1_20X_F074.tif\n",
      "images_2_channel/Plate_1_20X_F072.tif\n",
      "images_2_channel/Plate_1_20X_F076.tif\n"
     ]
    }
   ],
   "source": [
    "# checking that names that will save is correct\n",
    "\n",
    "for im in images:\n",
    "    name = \"images_2_channel/\"+im.split(\"/\")[-1] \n",
    "    print(name)"
   ]
  },
  {
   "cell_type": "code",
   "execution_count": 17,
   "metadata": {},
   "outputs": [
    {
     "name": "stdout",
     "output_type": "stream",
     "text": [
      "(2, 2048, 2048)\n",
      "(2, 2048, 2048)\n",
      "(2, 2048, 2048)\n",
      "(2, 2048, 2048)\n",
      "(2, 2048, 2048)\n"
     ]
    }
   ],
   "source": [
    "# change im1_save for which channels have DAPI and RNA\n",
    "\n",
    "for im in images:\n",
    "    im1 = imread(im)\n",
    "    im1_save = im1[[2, 4], ...]   # here, you should change the indices for where the DNA and RNA channels are\n",
    "    print(im1_save.shape)\n",
    "    name = \"images_2_channel\"+\"/\"+ im.split(\"/\")[1]\n",
    "    tifffile.imwrite(name, im1_save, imagej=True, photometric = 'minisblack',metadata={'axes':'CYX'})"
   ]
  },
  {
   "cell_type": "code",
   "execution_count": 13,
   "metadata": {},
   "outputs": [],
   "source": []
  },
  {
   "cell_type": "code",
   "execution_count": null,
   "metadata": {},
   "outputs": [],
   "source": []
  },
  {
   "cell_type": "code",
   "execution_count": null,
   "metadata": {},
   "outputs": [],
   "source": []
  },
  {
   "cell_type": "code",
   "execution_count": null,
   "metadata": {},
   "outputs": [],
   "source": []
  },
  {
   "cell_type": "code",
   "execution_count": null,
   "metadata": {},
   "outputs": [],
   "source": []
  },
  {
   "cell_type": "code",
   "execution_count": null,
   "metadata": {},
   "outputs": [],
   "source": []
  }
 ],
 "metadata": {
  "kernelspec": {
   "display_name": "Python 3 (ipykernel)",
   "language": "python",
   "name": "python3"
  },
  "language_info": {
   "codemirror_mode": {
    "name": "ipython",
    "version": 3
   },
   "file_extension": ".py",
   "mimetype": "text/x-python",
   "name": "python",
   "nbconvert_exporter": "python",
   "pygments_lexer": "ipython3",
   "version": "3.7.4"
  }
 },
 "nbformat": 4,
 "nbformat_minor": 4
}
