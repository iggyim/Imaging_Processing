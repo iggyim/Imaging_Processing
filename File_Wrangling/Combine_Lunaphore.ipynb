{
 "cells": [
  {
   "cell_type": "code",
   "execution_count": 1,
   "metadata": {},
   "outputs": [],
   "source": [
    "import numpy as np\n",
    "import glob\n",
    "from tifffile import *\n",
    "import re"
   ]
  },
  {
   "cell_type": "code",
   "execution_count": 7,
   "metadata": {},
   "outputs": [
    {
     "name": "stdout",
     "output_type": "stream",
     "text": [
      "0\n",
      "Row_01_Col_02.tiff\n",
      "['Toy_Data_CM_TMA/Cycle_001/Ch_1_Slice_01_Row_01_Col_02.tiff', 'Toy_Data_CM_TMA/Cycle_001/Ch_2_Slice_01_Row_01_Col_02.tiff', 'Toy_Data_CM_TMA/Cycle_001/Ch_3_Slice_01_Row_01_Col_02.tiff']\n",
      "(3, 2054, 2456)\n",
      "Row_01_Col_01.tiff\n",
      "['Toy_Data_CM_TMA/Cycle_001/Ch_1_Slice_01_Row_01_Col_01.tiff', 'Toy_Data_CM_TMA/Cycle_001/Ch_2_Slice_01_Row_01_Col_01.tiff', 'Toy_Data_CM_TMA/Cycle_001/Ch_3_Slice_01_Row_01_Col_01.tiff']\n",
      "(3, 2054, 2456)\n",
      "1\n",
      "Row_01_Col_02.tiff\n",
      "['Toy_Data_CM_TMA/Cycle_002/Ch_1_Slice_01_Row_01_Col_02.tiff', 'Toy_Data_CM_TMA/Cycle_002/Ch_2_Slice_01_Row_01_Col_02.tiff', 'Toy_Data_CM_TMA/Cycle_002/Ch_3_Slice_01_Row_01_Col_02.tiff']\n",
      "(3, 2054, 2456)\n",
      "Row_01_Col_01.tiff\n",
      "['Toy_Data_CM_TMA/Cycle_002/Ch_1_Slice_01_Row_01_Col_01.tiff', 'Toy_Data_CM_TMA/Cycle_002/Ch_2_Slice_01_Row_01_Col_01.tiff', 'Toy_Data_CM_TMA/Cycle_002/Ch_3_Slice_01_Row_01_Col_01.tiff']\n",
      "(3, 2054, 2456)\n",
      "2\n",
      "Row_01_Col_02.tiff\n",
      "['Toy_Data_CM_TMA/Cycle_003/Ch_1_Slice_01_Row_01_Col_02.tiff', 'Toy_Data_CM_TMA/Cycle_003/Ch_2_Slice_01_Row_01_Col_02.tiff', 'Toy_Data_CM_TMA/Cycle_003/Ch_3_Slice_01_Row_01_Col_02.tiff']\n",
      "(3, 2054, 2456)\n",
      "Row_01_Col_01.tiff\n",
      "['Toy_Data_CM_TMA/Cycle_003/Ch_1_Slice_01_Row_01_Col_01.tiff', 'Toy_Data_CM_TMA/Cycle_003/Ch_2_Slice_01_Row_01_Col_01.tiff', 'Toy_Data_CM_TMA/Cycle_003/Ch_3_Slice_01_Row_01_Col_01.tiff']\n",
      "(3, 2054, 2456)\n"
     ]
    }
   ],
   "source": [
    "whole_data = \"PATH_TO_NESTED_FILES_WITH_MULTIPLE_CYCLES/*\"\n",
    "\n",
    "for idx, val in enumerate(glob.glob(whole_data)):\n",
    "    print(idx)\n",
    "    file_name = val + \"/*\"\n",
    "    each_set = set()\n",
    "    list_of_files = []\n",
    "    for j in glob.glob(file_name):\n",
    "        list_of_files.append(j)\n",
    "        string = '_'.join(map(str,((j.split(\"_\"))[-4:])))\n",
    "        each_set.add(string)\n",
    "    each_set = list(each_set)\n",
    "    for element in each_set:\n",
    "        print(element)\n",
    "        new = sorted([k for k in list_of_files if element in k])\n",
    "        print(new)\n",
    "        img = np.stack((imread(new[0]), imread(new[1]), imread(new[2])))\n",
    "        print(img.shape)\n",
    "        imwrite(f\"merged_Cycle_{idx+1}_{element}\", img, imagej=True, photometric='minisblack', metadata={'axes': 'CYX'},)\n",
    "            \n",
    "\n",
    "\n"
   ]
  }
 ],
 "metadata": {
  "kernelspec": {
   "display_name": "Python 3.9.12 ('base')",
   "language": "python",
   "name": "python3"
  },
  "language_info": {
   "codemirror_mode": {
    "name": "ipython",
    "version": 3
   },
   "file_extension": ".py",
   "mimetype": "text/x-python",
   "name": "python",
   "nbconvert_exporter": "python",
   "pygments_lexer": "ipython3",
   "version": "3.9.12"
  },
  "orig_nbformat": 4,
  "vscode": {
   "interpreter": {
    "hash": "7d39665c502ff6222c357ccd2aef6f1cc3710e02054d57c841ca7c6b77a90323"
   }
  }
 },
 "nbformat": 4,
 "nbformat_minor": 2
}
