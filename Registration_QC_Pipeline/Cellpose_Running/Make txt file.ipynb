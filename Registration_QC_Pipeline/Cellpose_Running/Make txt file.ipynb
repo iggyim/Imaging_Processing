{
 "cells": [
  {
   "cell_type": "code",
   "execution_count": 1,
   "id": "f1414976",
   "metadata": {},
   "outputs": [],
   "source": []
  },
  {
   "cell_type": "code",
   "execution_count": 11,
   "id": "6edb1d3f",
   "metadata": {},
   "outputs": [
    {
     "name": "stdout",
     "output_type": "stream",
     "text": [
      "633\n"
     ]
    }
   ],
   "source": []
  },
  {
   "cell_type": "code",
   "execution_count": 13,
   "id": "217447c1",
   "metadata": {},
   "outputs": [],
   "source": [
    "# Create the file_list.txt file in the specified directory\n",
    "import os \n",
    "import glob\n",
    "\n",
    "files = sorted(glob.glob('max/*'))\n",
    "mask_files = sorted(glob.glob('Cellpose_Segmentation/*'))\n",
    "\n",
    "# append full directory names\n",
    "dir_name = '/mnt/disks/store/101422_D10_Coverslip3_Processed/'\n",
    "\n",
    "final_files = [dir_name + x for x in files]\n",
    "final_masks = [dir_name + x for x in mask_files]\n",
    "final_files = final_files + final_masks\n",
    "print(len(final_files))\n",
    "for x in final_files:\n",
    "    if not os.path.exists(x):\n",
    "        print('error')\n",
    "        \n",
    "#ff = dir_name + files[0]\n",
    "#print(os.path.exists(ff))\n",
    "\n",
    "with open(os.path.join('./', \"file_list.txt\"), \"w\") as file:\n",
    "    # Write each file name to the file, separated by new lines\n",
    "    for file_name in final_files:\n",
    "        file.write(file_name + \"\\n\")\n"
   ]
  },
  {
   "cell_type": "code",
   "execution_count": null,
   "id": "f36db7f9",
   "metadata": {},
   "outputs": [],
   "source": []
  }
 ],
 "metadata": {
  "kernelspec": {
   "display_name": "Python 3 (ipykernel)",
   "language": "python",
   "name": "python3"
  },
  "language_info": {
   "codemirror_mode": {
    "name": "ipython",
    "version": 3
   },
   "file_extension": ".py",
   "mimetype": "text/x-python",
   "name": "python",
   "nbconvert_exporter": "python",
   "pygments_lexer": "ipython3",
   "version": "3.7.12"
  }
 },
 "nbformat": 4,
 "nbformat_minor": 5
}
